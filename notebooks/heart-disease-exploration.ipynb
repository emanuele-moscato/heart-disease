{
 "cells": [
  {
   "cell_type": "markdown",
   "metadata": {},
   "source": [
    "# Analysis of heart disease data"
   ]
  },
  {
   "cell_type": "markdown",
   "metadata": {},
   "source": [
    "In this notebook we analyse a classic dataset for machine learning, the heart disease dataset. The task is that of developing a machine learning model that \"makes a diagnosis\" of heart disease (with various degrees for how serious it is) given patients' data.\n",
    "\n",
    "We will use this dataset to build an example of how to carry out a data science project.\n",
    "\n",
    "The data is taken [from Kaggle](https://www.kaggle.com/danimal/heartdiseaseensembleclassifier/)."
   ]
  },
  {
   "cell_type": "markdown",
   "metadata": {},
   "source": [
    "__Features:__\n",
    "\n",
    "- `age` - age in years\n",
    "- `sex` - sex (1 = male; 0 = female)\n",
    "- `cp` - chest pain type (1 = typical angina; 2 = atypical angina; 3 = non-anginal pain; 4 = asymptomatic)\n",
    "- `trestbps` - resting blood pressure (in mm Hg on admission to the hospital)\n",
    "- `chol` - serum cholestoral in mg/dl\n",
    "- `fbs` - fasting blood sugar > 120 mg/dl (1 = true; 0 = false)\n",
    "- `restecg` - resting electrocardiographic results (0 = normal; 1 = having ST-T; 2 = hypertrophy)\n",
    "- `thalach` - maximum heart rate achieved\n",
    "- `exang` - exercise induced angina (1 = yes; 0 = no)\n",
    "- `oldpeak` - ST depression induced by exercise relative to rest\n",
    "- `slope` - the slope of the peak exercise ST segment (1 = upsloping; 2 = flat; 3 = downsloping)\n",
    "- `ca` - number of major vessels (0-3) colored by flourosopy\n",
    "- `thal` - 3 = normal; 6 = fixed defect; 7 = reversable defect\n",
    "- `pred_attribute` - the predicted attribute, a parameter that indicates how bad the predicted heart disease is."
   ]
  },
  {
   "cell_type": "code",
   "execution_count": null,
   "metadata": {},
   "outputs": [],
   "source": [
    "import pandas as pd"
   ]
  },
  {
   "cell_type": "markdown",
   "metadata": {},
   "source": [
    "## Read the file containing the dataset"
   ]
  },
  {
   "cell_type": "code",
   "execution_count": null,
   "metadata": {
    "scrolled": true
   },
   "outputs": [],
   "source": [
    "data_df.columns"
   ]
  },
  {
   "cell_type": "code",
   "execution_count": null,
   "metadata": {},
   "outputs": [],
   "source": [
    "data_df = pd.read_csv(\"../data/Heart_Disease_Data.csv\")"
   ]
  },
  {
   "cell_type": "code",
   "execution_count": null,
   "metadata": {
    "scrolled": false
   },
   "outputs": [],
   "source": [
    "data_df.head()"
   ]
  },
  {
   "cell_type": "code",
   "execution_count": null,
   "metadata": {},
   "outputs": [],
   "source": [
    "data_df.describe()"
   ]
  },
  {
   "cell_type": "markdown",
   "metadata": {},
   "source": [
    "## Define features ($\\vec{x}_i$) and target variables ($y_i$)"
   ]
  },
  {
   "cell_type": "code",
   "execution_count": null,
   "metadata": {},
   "outputs": [],
   "source": [
    "X = data_df.drop('pred_attribute', axis=1)\n",
    "Y = pd.DataFrame(data_df['pred_attribute'])"
   ]
  },
  {
   "cell_type": "code",
   "execution_count": null,
   "metadata": {},
   "outputs": [],
   "source": [
    "X.head()"
   ]
  },
  {
   "cell_type": "code",
   "execution_count": null,
   "metadata": {
    "scrolled": true
   },
   "outputs": [],
   "source": [
    "Y.head()"
   ]
  },
  {
   "cell_type": "markdown",
   "metadata": {},
   "source": [
    "## Plot distributions for some of the features"
   ]
  },
  {
   "cell_type": "code",
   "execution_count": null,
   "metadata": {},
   "outputs": [],
   "source": [
    "import numpy as np\n",
    "\n",
    "from plotly.offline import iplot, init_notebook_mode\n",
    "import plotly.graph_objs as go\n",
    "from plotly import tools\n",
    "\n",
    "init_notebook_mode(connected=True)"
   ]
  },
  {
   "cell_type": "code",
   "execution_count": null,
   "metadata": {},
   "outputs": [],
   "source": [
    "cols_to_plot = ['age', 'trestbps', 'chol', 'thalach', 'oldpeak']"
   ]
  },
  {
   "cell_type": "code",
   "execution_count": null,
   "metadata": {},
   "outputs": [],
   "source": [
    "# fig = go.Figure(data=data, layout=layout)\n",
    "fig = tools.make_subplots(rows=2, cols=3, subplot_titles = tuple(cols_to_plot))\n",
    "\n",
    "counter = 0\n",
    "\n",
    "for col in cols_to_plot:\n",
    "    trace = go.Histogram(\n",
    "        x = X[col],\n",
    "        name = col\n",
    "    )\n",
    "\n",
    "    fig.append_trace(trace, counter//3+1, counter%3+1)\n",
    "    \n",
    "    counter += 1\n",
    "\n",
    "iplot(fig)"
   ]
  },
  {
   "cell_type": "code",
   "execution_count": null,
   "metadata": {},
   "outputs": [],
   "source": [
    "print(f\"Number of female patients: {X[X['sex']==0].shape[0]}\")\n",
    "print(f\"Number of male patients: {X[X['sex']==1].shape[0]}\")"
   ]
  },
  {
   "cell_type": "code",
   "execution_count": null,
   "metadata": {},
   "outputs": [],
   "source": [
    "trace_f = go.Histogram(\n",
    "    x = X[X['sex']==0]['age'],\n",
    "    histnorm = 'probability',\n",
    "    name = 'female'\n",
    ")\n",
    "\n",
    "trace_m = go.Histogram(\n",
    "    x = X[X['sex']==1]['age'],\n",
    "    histnorm = 'probability',\n",
    "    name = 'male'\n",
    ")\n",
    "\n",
    "layout = go.Layout(\n",
    "    xaxis = dict(\n",
    "        title = 'age'\n",
    "    ),\n",
    "    yaxis = dict(\n",
    "        title = 'probability'\n",
    "    ),\n",
    "    title='Age distribution by gender'\n",
    ")\n",
    "\n",
    "data = [trace_m, trace_f]\n",
    "\n",
    "fig = go.Figure(data=data, layout=layout)\n",
    "\n",
    "iplot(fig)"
   ]
  },
  {
   "cell_type": "markdown",
   "metadata": {},
   "source": [
    "## Feature engineering: one-hot encoding of categorical variables"
   ]
  },
  {
   "cell_type": "code",
   "execution_count": null,
   "metadata": {},
   "outputs": [],
   "source": [
    "X = pd.get_dummies(X)"
   ]
  },
  {
   "cell_type": "code",
   "execution_count": null,
   "metadata": {},
   "outputs": [],
   "source": [
    "X.head()"
   ]
  },
  {
   "cell_type": "code",
   "execution_count": null,
   "metadata": {},
   "outputs": [],
   "source": [
    "X.columns"
   ]
  },
  {
   "cell_type": "code",
   "execution_count": null,
   "metadata": {},
   "outputs": [],
   "source": [
    "print(f\"The dataset has {X.shape[1]} columns now.\")"
   ]
  },
  {
   "cell_type": "markdown",
   "metadata": {},
   "source": [
    "## Train a model to classify the samples and cross-validate"
   ]
  },
  {
   "cell_type": "code",
   "execution_count": null,
   "metadata": {},
   "outputs": [],
   "source": [
    "from sklearn.ensemble import RandomForestClassifier\n",
    "from sklearn.model_selection import train_test_split\n",
    "from sklearn.cross_validation import cross_val_score"
   ]
  },
  {
   "cell_type": "code",
   "execution_count": null,
   "metadata": {},
   "outputs": [],
   "source": [
    "rfc = RandomForestClassifier(n_estimators=100)"
   ]
  },
  {
   "cell_type": "code",
   "execution_count": null,
   "metadata": {},
   "outputs": [],
   "source": [
    "X_train, X_test, Y_train, Y_test = train_test_split(X, Y.values.ravel())"
   ]
  },
  {
   "cell_type": "code",
   "execution_count": null,
   "metadata": {},
   "outputs": [],
   "source": [
    "rfc.fit(X_train, Y_train)"
   ]
  },
  {
   "cell_type": "code",
   "execution_count": null,
   "metadata": {},
   "outputs": [],
   "source": [
    "rfc.predict(X_test)[:10]"
   ]
  },
  {
   "cell_type": "code",
   "execution_count": null,
   "metadata": {},
   "outputs": [],
   "source": [
    "scores = cross_val_score(rcf, X, Y.values.ravel(), cv=5)"
   ]
  },
  {
   "cell_type": "code",
   "execution_count": null,
   "metadata": {},
   "outputs": [],
   "source": [
    "print(f\"Mean accuracy: {np.mean(scores).round(2)} ± {np.std(scores).round(2)}\")"
   ]
  },
  {
   "cell_type": "markdown",
   "metadata": {},
   "source": [
    "## Search for the best values of the hyperparameters"
   ]
  },
  {
   "cell_type": "code",
   "execution_count": null,
   "metadata": {},
   "outputs": [],
   "source": [
    "from sklearn.model_selection import GridSearchCV"
   ]
  },
  {
   "cell_type": "code",
   "execution_count": null,
   "metadata": {},
   "outputs": [],
   "source": [
    "rfc_cv = RandomForestClassifier(class_weight='balanced')"
   ]
  },
  {
   "cell_type": "code",
   "execution_count": null,
   "metadata": {},
   "outputs": [],
   "source": [
    "gs = GridSearchCV(\n",
    "    rfc_cv,\n",
    "    {'n_estimators': [10, 25, 50, 100, 200, 500, 1000]},\n",
    "    cv = 5,\n",
    "    return_train_score = True\n",
    ")"
   ]
  },
  {
   "cell_type": "code",
   "execution_count": null,
   "metadata": {},
   "outputs": [],
   "source": [
    "gs.fit(X, Y.values.ravel())"
   ]
  },
  {
   "cell_type": "code",
   "execution_count": null,
   "metadata": {
    "scrolled": false
   },
   "outputs": [],
   "source": [
    "pd.DataFrame(gs.cv_results_)"
   ]
  },
  {
   "cell_type": "code",
   "execution_count": null,
   "metadata": {
    "scrolled": false
   },
   "outputs": [],
   "source": [
    "trace = go.Bar(\n",
    "    x=gs.cv_results_['param_n_estimators'],\n",
    "    y=list(gs.cv_results_['mean_test_score']),\n",
    "    error_y=dict(\n",
    "        type='data',\n",
    "        array=list(gs.cv_results_['std_test_score']),\n",
    "        visible=True\n",
    "    ),\n",
    "    width=0.4\n",
    ")\n",
    "\n",
    "data = [trace]\n",
    "\n",
    "layout = go.Layout(\n",
    "    xaxis = dict(\n",
    "        title='n_estimators',\n",
    "        type='category'\n",
    "    ),\n",
    "    yaxis = dict(\n",
    "        title='mean test score'\n",
    "    ),\n",
    "    title=\"Mean accuracies\"\n",
    ")\n",
    "\n",
    "iplot(go.Figure(data=data, layout=layout))"
   ]
  },
  {
   "cell_type": "markdown",
   "metadata": {},
   "source": [
    "## Export the best performing model"
   ]
  },
  {
   "cell_type": "code",
   "execution_count": null,
   "metadata": {},
   "outputs": [],
   "source": [
    "from sklearn.externals import joblib"
   ]
  },
  {
   "cell_type": "code",
   "execution_count": null,
   "metadata": {},
   "outputs": [],
   "source": [
    "# joblib.dump(gs.best_estimator_, \"../model/trained_model.pkl\")"
   ]
  },
  {
   "cell_type": "markdown",
   "metadata": {},
   "source": [
    "## Compute the probability of disease for males and females varying age"
   ]
  },
  {
   "cell_type": "code",
   "execution_count": null,
   "metadata": {},
   "outputs": [],
   "source": [
    "import sys\n",
    "sys.path.insert(0, \"../modules/\")\n",
    "from utils import cols_dummies\n",
    "import pickle"
   ]
  },
  {
   "cell_type": "code",
   "execution_count": null,
   "metadata": {},
   "outputs": [],
   "source": [
    "males_df = data_df[data_df['sex']==1]\n",
    "females_df = data_df[data_df['sex']==0]"
   ]
  },
  {
   "cell_type": "code",
   "execution_count": null,
   "metadata": {},
   "outputs": [],
   "source": [
    "mean_values = {\n",
    "    'cp': 3.0,\n",
    "    'trestbps': 132.0,\n",
    "    'chol': 247.0,\n",
    "    'fbs': 0,\n",
    "    'restecg': 1,\n",
    "    'thalach': 150,\n",
    "    'exang': 0,\n",
    "    'oldpeak': 1.0,\n",
    "    'slop': 2,\n",
    "    'ca': 1,\n",
    "    'thal': 3\n",
    "}\n",
    "\n",
    "mean_values_m = {\n",
    "    'cp': 3.0,\n",
    "    'trestbps': 131.0,\n",
    "    'chol': 239.0,\n",
    "    'fbs': 0,\n",
    "    'restecg': 1,\n",
    "    'thalach': 148,\n",
    "    'exang': 0,\n",
    "    'oldpeak': 1.1,\n",
    "    'slop': 2,\n",
    "    'ca': '1',\n",
    "    'thal': '6'\n",
    "}\n",
    "\n",
    "mean_values_f = {\n",
    "    'cp': 3.0,\n",
    "    'trestbps': 133.0,\n",
    "    'chol': 262.0,\n",
    "    'fbs': 0,\n",
    "    'restecg': 1,\n",
    "    'thalach': 151,\n",
    "    'exang': 0,\n",
    "    'oldpeak': 0.9,\n",
    "    'slop': 2,\n",
    "    'ca': '1',\n",
    "    'thal': '3'\n",
    "}"
   ]
  },
  {
   "cell_type": "code",
   "execution_count": null,
   "metadata": {},
   "outputs": [],
   "source": [
    "X_m = pd.DataFrame(columns=cols_dummies)\n",
    "X_f = pd.DataFrame(columns=cols_dummies)\n",
    "\n",
    "for age in range(20, 96):\n",
    "    data_m = mean_values_m\n",
    "    data_m['age'] = age\n",
    "    data_m_df = pd.DataFrame(pd.Series(data_m)).T\n",
    "    \n",
    "    X_m = X_m.append(pd.get_dummies(\n",
    "        data_m_df,\n",
    "        columns=['ca', 'thal']\n",
    "    ).iloc[0]).fillna(0)\n",
    "    \n",
    "    data_f = mean_values_f\n",
    "    data_f['age'] = age\n",
    "    data_f_df = pd.DataFrame(pd.Series(data_f)).T\n",
    "    \n",
    "    X_f = X_f.append(pd.get_dummies(\n",
    "        data_f_df,\n",
    "        columns=['ca', 'thal']\n",
    "    ).iloc[0]).fillna(0)"
   ]
  },
  {
   "cell_type": "code",
   "execution_count": null,
   "metadata": {},
   "outputs": [],
   "source": [
    "best_model = gs.best_estimator_"
   ]
  },
  {
   "cell_type": "code",
   "execution_count": null,
   "metadata": {},
   "outputs": [],
   "source": [
    "X_m['proba'] = best_model.predict_proba(X_m)[:,2]\n",
    "X_f['proba'] = best_model.predict_proba(X_f)[:,2]"
   ]
  },
  {
   "cell_type": "code",
   "execution_count": null,
   "metadata": {},
   "outputs": [],
   "source": [
    "trace_m = go.Scatter(\n",
    "    x = X_m['age'],\n",
    "    y = X_m['proba'],\n",
    "    name = 'males'\n",
    ")\n",
    "\n",
    "trace_f = go.Scatter(\n",
    "    x = X_f['age'],\n",
    "    y = X_f['proba'],\n",
    "    name = 'females'\n",
    ")\n",
    "\n",
    "layout = go.Layout(\n",
    "    xaxis = dict(\n",
    "        title='age'\n",
    "    ),\n",
    "    yaxis = dict(\n",
    "        title='probability'\n",
    "    ),\n",
    "    title='Probability of heart diseases as age varies'\n",
    ")\n",
    "\n",
    "fig_proba = go.Figure(data=[trace_m, trace_f], layout=layout)\n",
    "\n",
    "iplot(fig_proba)"
   ]
  },
  {
   "cell_type": "code",
   "execution_count": null,
   "metadata": {},
   "outputs": [],
   "source": [
    "# with open(\"../data/X_m.pkl\", \"wb\") as f:\n",
    "#     pickle.dump(X_m, f)\n",
    "    \n",
    "# with open(\"../data/X_f.pkl\", \"wb\") as f:\n",
    "#     pickle.dump(X_f, f)"
   ]
  }
 ],
 "metadata": {
  "kernelspec": {
   "display_name": "Python [conda env:Python3]",
   "language": "python",
   "name": "conda-env-Python3-py"
  },
  "language_info": {
   "codemirror_mode": {
    "name": "ipython",
    "version": 3
   },
   "file_extension": ".py",
   "mimetype": "text/x-python",
   "name": "python",
   "nbconvert_exporter": "python",
   "pygments_lexer": "ipython3",
   "version": "3.6.5"
  }
 },
 "nbformat": 4,
 "nbformat_minor": 2
}
